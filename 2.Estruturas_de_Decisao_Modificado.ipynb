{
    "cells": [
        {
            "cell_type": "markdown",
            "metadata": {},
            "source": [
                "# Formação Cientista de Dados - Guilherme Victor Soares\n",
                "Email: guiviso00@gmail.com\n",
                "Estruturas de Decisão"
            ]
        },
        {
            "cell_type": "code",
            "execution_count": null,
            "metadata": {},
            "outputs": [],
            "source": [
                "nota = 7\n",
                "if nota >= 7:\n",
                "\tprint(\"Aprovado\")\n",
                "\tprint(\"Parabéns!\")\n",
                "else:\n",
                "\tprint(\"Reprovado\")"
            ]
        },
        {
            "cell_type": "code",
            "execution_count": null,
            "metadata": {},
            "outputs": [],
            "source": [
                "# Código atualizado por Guilherme Victor Soares\n",
                "nota = 5\n",
                "if nota >= 7:\n",
                "\tprint(\"Aprovado\")\n",
                "else:\n",
                "\tprint(\"Reprovado\")"
            ]
        },
        {
            "cell_type": "code",
            "execution_count": null,
            "metadata": {},
            "outputs": [],
            "source": [
                "# Código atualizado por Guilherme Victor Soares\n",
                "nota = 7\n",
                "if nota <= 4:\n",
                "\tprint(\"Reprovado\")\n",
                "elif nota > 4 and nota <=6:\n",
                "\tprint(\"Exame\")\n",
                "else:\n",
                "\tprint(\"Aprovado\")\n"
            ]
        },
        {
            "cell_type": "code",
            "execution_count": null,
            "metadata": {},
            "outputs": [],
            "source": []
        }
    ],
    "metadata": {
        "kernelspec": {
            "display_name": "Python 3",
            "language": "python",
            "name": "python3"
        },
        "language_info": {
            "codemirror_mode": {
                "name": "ipython",
                "version": 3
            },
            "file_extension": ".py",
            "mimetype": "text/x-python",
            "name": "python",
            "nbconvert_exporter": "python",
            "pygments_lexer": "ipython3",
            "version": "3.7.6"
        }
    },
    "nbformat": 4,
    "nbformat_minor": 4
}